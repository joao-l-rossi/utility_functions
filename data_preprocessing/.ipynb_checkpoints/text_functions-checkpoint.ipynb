{
 "cells": [
  {
   "cell_type": "code",
   "execution_count": null,
   "id": "612adcba-4860-4d78-bb81-1b5c3a8bbb2f",
   "metadata": {},
   "outputs": [],
   "source": [
    "import string\n",
    "import nltk\n",
    "nltk.download(\"stopwords\")\n",
    "from nltk.corpus import stopwords\n",
    "from nltk.stem import WordNetLemmatizer\n",
    "from nltk.stem.porter import PorterStemmer\n",
    "porter = PorterStemmer()\n",
    "import pandas as pd\n",
    "\n",
    "\n",
    "def remove_punct(string_in):\n",
    "    table = str.maketrans('','', string.punctuation)\n",
    "    return(string_in.translate(table))\n",
    "\n",
    "def return_lower(string_in):\n",
    "    return(string_in.lower())\n",
    "\n",
    "def remove_stop(string_in):\n",
    "    stop_words = set(stopwords.words('english'))\n",
    "    string_split = string_in.split()\n",
    "    words = [word for word in string_split if not word in stop_words]\n",
    "    return(' '.join(words))\n",
    "\n",
    "def lemm(string_in):\n",
    "    #nltk.download('wordnet')\n",
    "    lemmatizer = WordNetLemmatizer()\n",
    "    words = string_in.split()\n",
    "    words_lem = [lemmatizer.lemmatize(w) for w in words]\n",
    "    return(' '.join(words))\n",
    "\n",
    "def stems(string_in):\n",
    "    words = string_in.split()\n",
    "    stemmed = [porter.stem(word) for word in words]\n",
    "    return(' '.join(stemmed))\n",
    "\n",
    "def preprocess(string_in):\n",
    "    return(remove_stop(return_lower(remove_punct(string_in))))\n",
    "\n",
    "def preprocess_all(df, column):\n",
    "    \"\"\"\n",
    "    Return the dataframe with the clean, Lemmatized and Stemmed columns for a given input text columns\n",
    "    \"\"\"\n",
    "    df[column+\"_clean\"] = [preprocess(string_line) for string_line in df[column]]\n",
    "    df[\"Lemmatized\"] = [lemm(string_line) for string_line in df[column+\"_clean\"]]\n",
    "    df[\"Stemmed\"] = [stems(string_line) for string_line in df[column+\"_clean\"]]\n",
    "    return(df)"
   ]
  }
 ],
 "metadata": {
  "kernelspec": {
   "display_name": "Python 3",
   "language": "python",
   "name": "python3"
  },
  "language_info": {
   "codemirror_mode": {
    "name": "ipython",
    "version": 3
   },
   "file_extension": ".py",
   "mimetype": "text/x-python",
   "name": "python",
   "nbconvert_exporter": "python",
   "pygments_lexer": "ipython3",
   "version": "3.8.8"
  }
 },
 "nbformat": 4,
 "nbformat_minor": 5
}
