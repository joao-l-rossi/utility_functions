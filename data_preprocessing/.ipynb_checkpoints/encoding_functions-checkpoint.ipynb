{
 "cells": [
  {
   "cell_type": "code",
   "execution_count": null,
   "id": "51239639-3f42-4428-a43f-e35aee31961d",
   "metadata": {},
   "outputs": [],
   "source": [
    "#ordinal encoder \n",
    "from sklearn.preprocessing import OrdinalEncoder\n",
    "\n",
    "\n",
    "def ordinal_encoder_function(df, lst):\n",
    "    \"\"\"\n",
    "    Returns a dataframe with columns listed in lst encoded as ordinal numerical features\n",
    "    \"\"\"\n",
    "    encoder=OrdinalEncoder()\n",
    "    for column in lst:\n",
    "        a=df[column].values.reshape(-1, 1)\n",
    "        result = encoder.fit_transform(a)\n",
    "        df[column]=pd.DataFrame(data=result)\n",
    "    return df"
   ]
  }
 ],
 "metadata": {
  "kernelspec": {
   "display_name": "Python 3",
   "language": "python",
   "name": "python3"
  },
  "language_info": {
   "codemirror_mode": {
    "name": "ipython",
    "version": 3
   },
   "file_extension": ".py",
   "mimetype": "text/x-python",
   "name": "python",
   "nbconvert_exporter": "python",
   "pygments_lexer": "ipython3",
   "version": "3.8.8"
  }
 },
 "nbformat": 4,
 "nbformat_minor": 5
}
