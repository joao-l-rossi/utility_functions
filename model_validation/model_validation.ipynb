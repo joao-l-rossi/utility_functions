{
 "cells": [
  {
   "cell_type": "markdown",
   "id": "19d9784b-2676-49bb-860e-f22cef703d07",
   "metadata": {},
   "source": [
    "## Model Validation Functions"
   ]
  },
  {
   "cell_type": "code",
   "execution_count": null,
   "id": "f2981461-89eb-49e3-99e0-238732a82eaf",
   "metadata": {},
   "outputs": [],
   "source": [
    "def evaluate_regression(model, X_test, y_test):\n",
    "    \"\"\"\n",
    "    Calculates R2, MAE, and MSE given model and test data \n",
    "    \"\"\"\n",
    "    y_pred = model.predict(X_test)\n",
    "    print(\"R2: \", r2_score(y_test, y_pred))\n",
    "    print(\"MAE: \", mean_absolute_error(y_test, y_pred))\n",
    "    print(\"MSE: \", mean_squared_error(y_test, y_pred))"
   ]
  },
  {
   "cell_type": "code",
   "execution_count": null,
   "id": "aee9967d-9438-42e2-8744-d2778e3dffd8",
   "metadata": {},
   "outputs": [],
   "source": []
  },
  {
   "cell_type": "code",
   "execution_count": null,
   "id": "92aac50e-8e1a-4be8-8dc3-0628d7ce3d69",
   "metadata": {},
   "outputs": [],
   "source": []
  },
  {
   "cell_type": "code",
   "execution_count": null,
   "id": "d2aaba78-8abb-497d-a9e5-3bd2767bb942",
   "metadata": {},
   "outputs": [],
   "source": []
  },
  {
   "cell_type": "code",
   "execution_count": null,
   "id": "ba6805f7-6bfc-47b2-9403-84258f4226dc",
   "metadata": {},
   "outputs": [],
   "source": []
  },
  {
   "cell_type": "code",
   "execution_count": null,
   "id": "defd41a1-fa06-4f01-92b2-a780d23a2c44",
   "metadata": {},
   "outputs": [],
   "source": []
  },
  {
   "cell_type": "code",
   "execution_count": null,
   "id": "7b9d9783-01ce-4557-842e-f9d7415790ee",
   "metadata": {},
   "outputs": [],
   "source": []
  },
  {
   "cell_type": "code",
   "execution_count": null,
   "id": "9efb655c-2be3-4ed1-867a-ac7e709d0259",
   "metadata": {},
   "outputs": [],
   "source": []
  },
  {
   "cell_type": "code",
   "execution_count": null,
   "id": "1a50ee34-02ba-4305-990f-a6db44899166",
   "metadata": {},
   "outputs": [],
   "source": []
  },
  {
   "cell_type": "code",
   "execution_count": null,
   "id": "523b96de-6c2d-4139-923e-64dd9d3453ae",
   "metadata": {},
   "outputs": [],
   "source": []
  },
  {
   "cell_type": "code",
   "execution_count": null,
   "id": "862e4fff-0883-4123-bf97-c96ec2c3c506",
   "metadata": {},
   "outputs": [],
   "source": []
  },
  {
   "cell_type": "code",
   "execution_count": null,
   "id": "6aefb32e-38d5-4ce7-a92a-32f0f6aac631",
   "metadata": {},
   "outputs": [],
   "source": []
  }
 ],
 "metadata": {
  "kernelspec": {
   "display_name": "Python 3",
   "language": "python",
   "name": "python3"
  },
  "language_info": {
   "codemirror_mode": {
    "name": "ipython",
    "version": 3
   },
   "file_extension": ".py",
   "mimetype": "text/x-python",
   "name": "python",
   "nbconvert_exporter": "python",
   "pygments_lexer": "ipython3",
   "version": "3.8.8"
  }
 },
 "nbformat": 4,
 "nbformat_minor": 5
}
